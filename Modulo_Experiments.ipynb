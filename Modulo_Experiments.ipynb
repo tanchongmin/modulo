{
 "cells": [
  {
   "cell_type": "markdown",
   "metadata": {},
   "source": [
    "## Modulo Experiments\n",
    "\n",
    "This notebook depicts an attempt at getting a neural network to learn a modulo function.\n",
    "\n",
    "The general consensus is that a neural network can fit any function (Cybenko, 1990) http://cognitivemedium.com/magic_paper/assets/Cybenko.pdf\n",
    "However, given that the neurons in a traditional neural network are typically only adding or subtracting the input weights * input data value, it is difficult to approximate multiplication and division.\n",
    "\n",
    "A modulo involves calculating both addition/subtraction and multiplication/division, hence it is fundamentally challenging.\n",
    "\n",
    "However, can a neural network learn a concept, such as how to calculate a modulo function? Such concepts are typically calculated using a procedural set of instructions, and is not exactly the domain of traditional neural networks.\n",
    "\n",
    "The modulo function is basically the remainder. Some examples are:\n",
    "- 5 % 2 = 1\n",
    "- 5 % 3 = 2\n",
    "- 6 % 2 = 0\n",
    "\n",
    "One example of a set of instructions for modulo of a % b is as follows:\n",
    "1) Calculate c = a//b (the floor of a/b)\n",
    "2) Calculate modulo = a - c*b\n",
    "\n",
    "Dependencies:\n",
    "- tensorflow\n",
    "- numpy\n",
    "\n",
    "## Inputs/Outputs\n",
    "\n",
    "Train Inputs:\n",
    "250000 random integers from 0 to 2^20\n",
    "\n",
    "Test Inputs:\n",
    "10000 random integers from 2^20 to 2^21\n",
    "\n",
    "Outputs:\n",
    "Modulo of the input with factor 7\n",
    "\n",
    "## Base Model\n",
    "The base model in this notebook uses a ResNet with 3 layers, with skip connections between all layers"
   ]
  },
  {
   "cell_type": "markdown",
   "metadata": {},
   "source": [
    "## Results\n",
    "We are able to get a train accuracy of up to 100%, but the test accuracy is 0%!\n",
    "Strong overfitting here.\n",
    "This also means that the model is unable to generalize."
   ]
  },
  {
   "cell_type": "code",
   "execution_count": 10,
   "metadata": {},
   "outputs": [],
   "source": [
    "import tensorflow as tf, numpy as np\n",
    "\n",
    "# hyperparameters here\n",
    "divisor = 7\n",
    "\n",
    "# convert a number into binary\n",
    "def int2bits(i,fill=21): \n",
    "    return list(map(int,bin(i)[2:].zfill(fill)))\n",
    "\n",
    "def bits2int(b):\n",
    "    return sum(i*2**n for n,i in enumerate(reversed(b)))\n",
    "\n",
    "# Data. \n",
    "I = np.random.randint(0,2**20,size=(250000,))\n",
    "X = np.array(list(map(int2bits,I)))\n",
    "Y = np.array([int2bits(2**i,divisor) for i in I % divisor])\n",
    "\n",
    "# Test Data. \n",
    "It = np.random.randint(2**20,2**21,size=(10000,))\n",
    "Xt = np.array(list(map(int2bits,It)))\n",
    "Yt = np.array([int2bits(2**i,divisor) for i in It % divisor])"
   ]
  },
  {
   "cell_type": "code",
   "execution_count": 11,
   "metadata": {},
   "outputs": [
    {
     "name": "stdout",
     "output_type": "stream",
     "text": [
      "Epoch 1/20\n",
      "25/25 [==============================] - 24s 949ms/step - loss: 1.9817 - accuracy: 0.1436 - val_loss: 1.9460 - val_accuracy: 0.1414\n",
      "Epoch 2/20\n",
      "25/25 [==============================] - 27s 1s/step - loss: 1.9459 - accuracy: 0.1450 - val_loss: 1.9463 - val_accuracy: 0.1426\n",
      "Epoch 3/20\n",
      "25/25 [==============================] - 33s 1s/step - loss: 1.9457 - accuracy: 0.1466 - val_loss: 1.9461 - val_accuracy: 0.1443\n",
      "Epoch 4/20\n",
      "25/25 [==============================] - 30s 1s/step - loss: 1.9455 - accuracy: 0.1495 - val_loss: 1.9464 - val_accuracy: 0.1388\n",
      "Epoch 5/20\n",
      "25/25 [==============================] - 26s 1s/step - loss: 1.9451 - accuracy: 0.1526 - val_loss: 1.9469 - val_accuracy: 0.1367\n",
      "Epoch 6/20\n",
      "25/25 [==============================] - 28s 1s/step - loss: 1.9446 - accuracy: 0.1538 - val_loss: 1.9470 - val_accuracy: 0.1343\n",
      "Epoch 7/20\n",
      "25/25 [==============================] - 26s 1s/step - loss: 1.9433 - accuracy: 0.1607 - val_loss: 1.9486 - val_accuracy: 0.1390\n",
      "Epoch 8/20\n",
      "25/25 [==============================] - 28s 1s/step - loss: 1.9395 - accuracy: 0.1715 - val_loss: 1.9557 - val_accuracy: 0.1381\n",
      "Epoch 9/20\n",
      "25/25 [==============================] - 27s 1s/step - loss: 1.9202 - accuracy: 0.1974 - val_loss: 2.0333 - val_accuracy: 0.1267\n",
      "Epoch 10/20\n",
      "25/25 [==============================] - 33s 1s/step - loss: 1.8227 - accuracy: 0.2766 - val_loss: 2.4522 - val_accuracy: 0.0837\n",
      "Epoch 11/20\n",
      "25/25 [==============================] - 31s 1s/step - loss: 1.5387 - accuracy: 0.4052 - val_loss: 3.5911 - val_accuracy: 0.0677\n",
      "Epoch 12/20\n",
      "25/25 [==============================] - 30s 1s/step - loss: 1.3356 - accuracy: 0.5285 - val_loss: 4.7232 - val_accuracy: 0.0370\n",
      "Epoch 13/20\n",
      "25/25 [==============================] - 30s 1s/step - loss: 0.9549 - accuracy: 0.6954 - val_loss: 7.5115 - val_accuracy: 0.0205\n",
      "Epoch 14/20\n",
      "25/25 [==============================] - 35s 1s/step - loss: 0.6456 - accuracy: 0.8084 - val_loss: 10.9288 - val_accuracy: 0.0160\n",
      "Epoch 15/20\n",
      "25/25 [==============================] - 27s 1s/step - loss: 0.3845 - accuracy: 0.9000 - val_loss: 14.3024 - val_accuracy: 0.0089\n",
      "Epoch 16/20\n",
      "25/25 [==============================] - 29s 1s/step - loss: 0.2316 - accuracy: 0.9452 - val_loss: 17.5676 - val_accuracy: 0.0062\n",
      "Epoch 17/20\n",
      "25/25 [==============================] - 27s 1s/step - loss: 0.1613 - accuracy: 0.9603 - val_loss: 19.9881 - val_accuracy: 0.0044\n",
      "Epoch 18/20\n",
      "25/25 [==============================] - 29s 1s/step - loss: 0.1018 - accuracy: 0.9788 - val_loss: 22.2870 - val_accuracy: 0.0014\n",
      "Epoch 19/20\n",
      "25/25 [==============================] - 27s 1s/step - loss: 0.0644 - accuracy: 0.9883 - val_loss: 23.8971 - val_accuracy: 4.0000e-04\n",
      "Epoch 20/20\n",
      "25/25 [==============================] - 27s 1s/step - loss: 0.0466 - accuracy: 0.9922 - val_loss: 25.4120 - val_accuracy: 7.0000e-04\n"
     ]
    },
    {
     "data": {
      "text/plain": [
       "<tensorflow.python.keras.callbacks.History at 0x63cd96650>"
      ]
     },
     "execution_count": 11,
     "metadata": {},
     "output_type": "execute_result"
    }
   ],
   "source": [
    "# Model.\n",
    "from tensorflow.keras.layers import Dense, Input, Concatenate\n",
    "from tensorflow.keras import Model\n",
    "\n",
    "\n",
    "### Change the model architecture here\n",
    "########################################################\n",
    "inputs = Input(shape = (21))\n",
    "x = Dense(1000, 'relu')(inputs)\n",
    "\n",
    "# Do a ResNet style skip connection\n",
    "layer1 = Concatenate()([x, inputs])\n",
    "x = Dense(1000, 'relu')(layer1)\n",
    "\n",
    "# Do a double skip connection\n",
    "layer2 = Concatenate()([x, layer1])\n",
    "x = Dense(1000, 'relu')(layer2)\n",
    "\n",
    "# Do a triple skip connection\n",
    "layer3 = Concatenate()([x, layer2])\n",
    "x = Dense(1000, 'relu')(layer3)\n",
    "outputs = Dense(divisor, 'softmax')(x)\n",
    "\n",
    "model = Model(inputs=inputs, outputs=outputs)\n",
    "\n",
    "########################################################\n",
    "\n",
    "model.compile('adam','categorical_crossentropy',['accuracy'])\n",
    "\n",
    "# Train (report the final score at the 20th epoch)\n",
    "model.fit(X,Y,10_000,20,validation_data=(Xt,Yt))"
   ]
  },
  {
   "cell_type": "code",
   "execution_count": null,
   "metadata": {},
   "outputs": [],
   "source": []
  }
 ],
 "metadata": {
  "kernelspec": {
   "display_name": "Python 3",
   "language": "python",
   "name": "python3"
  },
  "language_info": {
   "codemirror_mode": {
    "name": "ipython",
    "version": 3
   },
   "file_extension": ".py",
   "mimetype": "text/x-python",
   "name": "python",
   "nbconvert_exporter": "python",
   "pygments_lexer": "ipython3",
   "version": "3.7.6"
  }
 },
 "nbformat": 4,
 "nbformat_minor": 4
}
